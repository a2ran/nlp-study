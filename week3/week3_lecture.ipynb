{
 "cells": [
  {
   "cell_type": "markdown",
   "id": "322eb997",
   "metadata": {},
   "source": [
    "# Stanford CS224N: Lecture 3 - Backprop and Neural Networks"
   ]
  },
  {
   "cell_type": "markdown",
   "id": "64c59f51",
   "metadata": {},
   "source": [
    "# <span style = \"color: blue\"> Lecture </span>"
   ]
  },
  {
   "cell_type": "markdown",
   "id": "8da32084",
   "metadata": {},
   "source": [
    "## Named Entity Recognition (NER)"
   ]
  },
  {
   "cell_type": "markdown",
   "id": "1f70ab46",
   "metadata": {},
   "source": [
    "**Named Entity Recognition** identifies and classifies **named entities** <br>\n",
    "into **predefined entity categories** such as person names, organizations... <br>\n",
    "\n",
    "For example, <br>\n",
    "\n",
    "\"*Harry Kane missed his penalty at the World Cup 2022.*\"\n",
    "\n",
    "\"Harry Kane\" - **(Person Name)** <br>\n",
    "\"World Cup 2022\" - **(Location)**"
   ]
  },
  {
   "cell_type": "markdown",
   "id": "942100ab",
   "metadata": {},
   "source": [
    "### Binary Word Window Classification"
   ]
  },
  {
   "cell_type": "markdown",
   "id": "36031391",
   "metadata": {},
   "source": [
    "<img src = '1.png'>"
   ]
  },
  {
   "cell_type": "markdown",
   "id": "02fd8da3",
   "metadata": {},
   "source": [
    "**Binary Word Window Classification** classifies **center word** <br>\n",
    "for each class based on the *presence* of **word** in a given *context window*.\n",
    "\n",
    "The classification is **binary** because it classifies text into **{yes/no}** <br>\n",
    "given the **{presence/absence}** of the target word.\n",
    "\n",
    "For Example, <br>\n",
    "\n",
    "\"*Heungmin Son scored a Hat-trick last week.*\" (target word -> \"Hat-trick\") <br>\n",
    "\n",
    "The classification will classify the presence of the target word \"Hat-trick\" in the sentence. <br>\n",
    "Label $1$ if \"Hat-trick\" is present in the sentence. If not, label $0$."
   ]
  },
  {
   "cell_type": "markdown",
   "id": "9e90a80f",
   "metadata": {},
   "source": [
    "## Matrix Calculus"
   ]
  },
  {
   "cell_type": "markdown",
   "id": "d3fab3e7",
   "metadata": {},
   "source": [
    "**Why Calculate gradients using matrix calculus?**\n",
    "\n",
    "1. Faster calculation speed than non-vectorized gradients\n",
    "2. Is an effective method to handle similar iterative operations\n",
    "\n",
    "**Jacobian Matrix** is a $mxn$ matrix of partial derivatives.\n",
    "\n",
    "$n$ = inputs, $m$ = outputs, $f : R^n -> R^m$"
   ]
  },
  {
   "cell_type": "markdown",
   "id": "b252caae",
   "metadata": {},
   "source": [
    "<img src = '2.png'>"
   ]
  },
  {
   "cell_type": "markdown",
   "id": "81bbfeb7",
   "metadata": {},
   "source": [
    "### Procedures"
   ]
  },
  {
   "cell_type": "markdown",
   "id": "6bdae6ad",
   "metadata": {},
   "source": [
    "$x$ = input<br>$z = Wx + b$\n",
    "\n",
    "**Input Layer**\n",
    "\n",
    "$\\frac{\\partial z}{\\partial x} = W$\n",
    "\n",
    "**Hidden Layer**\n",
    "\n",
    "$\\frac{\\partial h}{\\partial z} = diag(f'(z))$\n",
    "\n",
    "**Output Layer**\n",
    "\n",
    "$\\frac{\\partial s}{\\partial h} = u^T$"
   ]
  },
  {
   "cell_type": "markdown",
   "id": "4023fb69",
   "metadata": {},
   "source": [
    "**Jacobian Matrix**\n",
    "\n",
    "$\\frac{\\partial s}{\\partial u} = h^T$\n",
    "\n",
    "$\\frac{\\partial s}{\\partial W} = \\frac{\\partial s}{\\partial h}\\frac{\\partial h}{\\partial z}\\frac{\\partial z}{\\partial W}$\n",
    "\n",
    "$\\frac{\\partial s}{\\partial b} = \\frac{\\partial s}{\\partial h}\\frac{\\partial h}{\\partial z}\\frac{\\partial z}{\\partial b}$\n",
    "\n",
    "$\\frac{\\partial s}{\\partial h}\\frac{\\partial h}{\\partial z} = \\delta$"
   ]
  },
  {
   "cell_type": "markdown",
   "id": "68a5427b",
   "metadata": {},
   "source": [
    "$\\frac{\\partial s}{\\partial b} = u^Tdiag(f'(z))I$\n",
    "\n",
    "$\\frac{\\partial s}{\\partial W} = \\delta^Tx^T$"
   ]
  },
  {
   "attachments": {},
   "cell_type": "markdown",
   "id": "1b03289c",
   "metadata": {},
   "source": [
    "<img src = '3.png'>"
   ]
  },
  {
   "cell_type": "markdown",
   "id": "0f4030df",
   "metadata": {},
   "source": [
    "## Back Propagation"
   ]
  },
  {
   "cell_type": "markdown",
   "id": "18ebddbe",
   "metadata": {},
   "source": [
    "**Backpropagation** reuses the weights of the network to update weights <br>\n",
    "to the direction of reducing the loss.\n",
    "\n",
    "**Backpropagation steps**\n",
    "\n",
    "1. Feed forward input x through the network to produce $\\hat{y}$\n",
    "2. Calculate difference between output $\\hat{y}$ and target $y$\n",
    "3. Backpropagate the derivative of loss function with $\\hat{y}$\n",
    "4. Backpropagate the derivative of $\\hat{y}$ with hidden layer\n",
    "5. Calculate the product of the gradients from 3 and 4\n",
    "6. Update weights to the negative direction"
   ]
  },
  {
   "cell_type": "code",
   "execution_count": null,
   "id": "032f312c",
   "metadata": {},
   "outputs": [],
   "source": []
  }
 ],
 "metadata": {
  "kernelspec": {
   "display_name": "Python 3 (ipykernel)",
   "language": "python",
   "name": "python3"
  },
  "language_info": {
   "codemirror_mode": {
    "name": "ipython",
    "version": 3
   },
   "file_extension": ".py",
   "mimetype": "text/x-python",
   "name": "python",
   "nbconvert_exporter": "python",
   "pygments_lexer": "ipython3",
   "version": "3.9.12"
  }
 },
 "nbformat": 4,
 "nbformat_minor": 5
}
