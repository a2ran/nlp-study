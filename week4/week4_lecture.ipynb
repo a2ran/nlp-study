{
 "cells": [
  {
   "cell_type": "markdown",
   "id": "afe51209",
   "metadata": {},
   "source": [
    "# Stanford CS224N: Lecture 4 - Synthetic Structure and Dependency Parsing"
   ]
  },
  {
   "cell_type": "markdown",
   "id": "7014b1d3",
   "metadata": {},
   "source": [
    "# <span style = \"color: blue\"> Lecture </span>"
   ]
  },
  {
   "cell_type": "markdown",
   "id": "8da6d8f9",
   "metadata": {},
   "source": [
    "## Constituency Structure"
   ]
  },
  {
   "cell_type": "markdown",
   "id": "bfdd7c3d",
   "metadata": {},
   "source": [
    "<img src = '1.jpg'>"
   ]
  },
  {
   "cell_type": "markdown",
   "id": "054c45c8",
   "metadata": {},
   "source": [
    "**Constituency Structure** parses a sentence into nested constituents <br>\n",
    "to figure out the **structure of the sentence.**\n",
    "\n",
    "For instance,\n",
    "\n",
    "\"*John hit the ball*\"\n",
    "\n",
    "1. Identify the noun (N) from sentence (S) = \"John\"\n",
    "2. Identify the verb (V) from verb phrase (VP) = \"hit\"\n",
    "3. Identify the detrient (D) from Noun phrase (NP) = \"the\"\n",
    "4. Label each phrases and represent the relationship using a tree diagram\n",
    "\n",
    "**Constituency Structure** has its usage on **understanding sentence structures.**"
   ]
  },
  {
   "cell_type": "markdown",
   "id": "65249cc7",
   "metadata": {},
   "source": [
    "## Dependency Structure"
   ]
  },
  {
   "cell_type": "markdown",
   "id": "28e6da20",
   "metadata": {},
   "source": [
    "<img src = '2.png'>"
   ]
  },
  {
   "cell_type": "markdown",
   "id": "33bdf2f0",
   "metadata": {},
   "source": [
    "**Dependency Structure** has its usage on **understanding relationship between vocabularies.**\n",
    "\n",
    "1. The **Arrow** heads from \"head\" to \"dependent\". <br>\n",
    "2. The **Label** above the arrow indicates the **dependency** between vocabularies.\n",
    "3. To make all words dependent, add one or more fake **ROOTs.**\n",
    "4. Arrows do not cycle (if A -> B, then B !-> A)"
   ]
  },
  {
   "cell_type": "markdown",
   "id": "0210dfd4",
   "metadata": {},
   "source": [
    "### Transition-based Dependency Parsing"
   ]
  },
  {
   "cell_type": "markdown",
   "id": "01559734",
   "metadata": {},
   "source": [
    "<img src = '3.png'>"
   ]
  },
  {
   "cell_type": "markdown",
   "id": "1e704376",
   "metadata": {},
   "source": [
    "**Transition-based parser** determines the **dependency** of two words in a **sequential order.**\n",
    "\n",
    "$c = (\\sigma, \\beta, A)$ where $\\sigma$ = STACK, $\\beta$ = BUFFER, $A$ = Set of Arcs\n",
    "\n",
    "All decisions are made from $f(c)$ which inputs State (c) in a BUFFER.\n",
    "\n",
    "1. ROOT | I ate fish | X\n",
    "\n",
    "2. ROOT I | ate fish | X\n",
    "\n",
    "Decision Process : Shift\n",
    "\n",
    "3. ROOT I ate | fish | X\n",
    "\n",
    "Decision Process : Shift -> Shift\n",
    "\n",
    "4. ROOT ate | fish | (ate, nsubj, I)\n",
    "\n",
    "Decision Process : Shift -> Shift -> Left-Arc (nsubj)\n",
    "\n",
    "5. ROOT ate fish | X | (ate, nsubj, I)\n",
    "\n",
    "Decision Process : Shift -> Shift -> Left-Arc (nsubj) -> Shift\n",
    "\n",
    "6. ROOT ate | X | (ate, nsubj, I) (ate, dobj, fish)\n",
    "\n",
    "Decision Process : Shift -> Shift -> Left-Arc (nsubj) -> Shift -> Right-Arc (dobj)\n",
    "\n",
    "7. ROOT | X | (ate, nsbj, I) (ate, dobj, fish) (ROOT, root, ate)\n",
    "\n",
    "**Decision Process : Shift -> Shift -> Left-Arc (nsubj) -> Shift -> Right-Arc (dobj) -> Right-Arc (root)**\n",
    "\n"
   ]
  },
  {
   "cell_type": "code",
   "execution_count": null,
   "id": "d0a7e325",
   "metadata": {},
   "outputs": [],
   "source": []
  }
 ],
 "metadata": {
  "kernelspec": {
   "display_name": "Python 3 (ipykernel)",
   "language": "python",
   "name": "python3"
  },
  "language_info": {
   "codemirror_mode": {
    "name": "ipython",
    "version": 3
   },
   "file_extension": ".py",
   "mimetype": "text/x-python",
   "name": "python",
   "nbconvert_exporter": "python",
   "pygments_lexer": "ipython3",
   "version": "3.9.12"
  }
 },
 "nbformat": 4,
 "nbformat_minor": 5
}
